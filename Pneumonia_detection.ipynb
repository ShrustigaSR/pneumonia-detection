{
  "nbformat": 4,
  "nbformat_minor": 0,
  "metadata": {
    "colab": {
      "provenance": [],
      "authorship_tag": "ABX9TyMdMbLVkhryPT3kDSEpYSEr"
    },
    "kernelspec": {
      "name": "python3",
      "display_name": "Python 3"
    },
    "language_info": {
      "name": "python"
    }
  },
  "cells": [
    {
      "cell_type": "code",
      "execution_count": 1,
      "metadata": {
        "colab": {
          "base_uri": "https://localhost:8080/"
        },
        "id": "CcIBACQ5kNt2",
        "outputId": "1252a73b-d9bd-4d5a-e180-638fc344eaa0"
      },
      "outputs": [
        {
          "output_type": "stream",
          "name": "stdout",
          "text": [
            "Hello Worlddddd\n"
          ]
        }
      ],
      "source": [
        "print(\"Hello Worlddddd\")"
      ]
    },
    {
      "cell_type": "code",
      "source": [],
      "metadata": {
        "id": "SMFOhQ4Qk7yR"
      },
      "execution_count": null,
      "outputs": []
    }
  ]
}